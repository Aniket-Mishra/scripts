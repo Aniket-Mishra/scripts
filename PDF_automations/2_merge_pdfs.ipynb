{
 "cells": [
  {
   "cell_type": "code",
   "execution_count": 1,
   "metadata": {},
   "outputs": [],
   "source": [
    "import fitz  # PyMuPDF\n",
    "import glob"
   ]
  },
  {
   "cell_type": "code",
   "execution_count": 2,
   "metadata": {},
   "outputs": [],
   "source": [
    "pdf_files = sorted(\n",
    "    glob.glob(\n",
    "        \"/Users/aniket/TU_Eindhoven/2_Study/Q3_2AMM15_Machine_Learning_Engineering/1_Notes/*.pdf\"\n",
    "    )\n",
    ")\n",
    "\n",
    "merged_pdf = fitz.open()"
   ]
  },
  {
   "cell_type": "code",
   "execution_count": 3,
   "metadata": {},
   "outputs": [],
   "source": [
    "pdf_files = pdf_files[1:]"
   ]
  },
  {
   "cell_type": "code",
   "execution_count": 4,
   "metadata": {},
   "outputs": [
    {
     "data": {
      "text/plain": [
       "['/Users/aniket/TU_Eindhoven/2_Study/Q3_2AMM15_Machine_Learning_Engineering/1_Notes/MLE_01 - Introduction.pdf',\n",
       " '/Users/aniket/TU_Eindhoven/2_Study/Q3_2AMM15_Machine_Learning_Engineering/1_Notes/MLE_02 - Linear Models.pdf',\n",
       " '/Users/aniket/TU_Eindhoven/2_Study/Q3_2AMM15_Machine_Learning_Engineering/1_Notes/MLE_03 - Kernelization.pdf',\n",
       " '/Users/aniket/TU_Eindhoven/2_Study/Q3_2AMM15_Machine_Learning_Engineering/1_Notes/MLE_04 - Model Selection.pdf',\n",
       " '/Users/aniket/TU_Eindhoven/2_Study/Q3_2AMM15_Machine_Learning_Engineering/1_Notes/MLE_05 - Ensemble Learning.pdf',\n",
       " '/Users/aniket/TU_Eindhoven/2_Study/Q3_2AMM15_Machine_Learning_Engineering/1_Notes/MLE_06 - Data Preprocessing.pdf',\n",
       " '/Users/aniket/TU_Eindhoven/2_Study/Q3_2AMM15_Machine_Learning_Engineering/1_Notes/MLE_07 - Bayesian Learning.pdf',\n",
       " '/Users/aniket/TU_Eindhoven/2_Study/Q3_2AMM15_Machine_Learning_Engineering/1_Notes/MLE_08 - Neural Networks.pdf',\n",
       " '/Users/aniket/TU_Eindhoven/2_Study/Q3_2AMM15_Machine_Learning_Engineering/1_Notes/MLE_09 - Convolutional Neural Networks.pdf',\n",
       " '/Users/aniket/TU_Eindhoven/2_Study/Q3_2AMM15_Machine_Learning_Engineering/1_Notes/MLE_10 - Neural Networks for text.pdf']"
      ]
     },
     "execution_count": 4,
     "metadata": {},
     "output_type": "execute_result"
    }
   ],
   "source": [
    "pdf_files"
   ]
  },
  {
   "cell_type": "code",
   "execution_count": 5,
   "metadata": {},
   "outputs": [],
   "source": [
    "for pdf in pdf_files:\n",
    "    with fitz.open(pdf) as mdoc:\n",
    "        merged_pdf.insert_pdf(mdoc)"
   ]
  },
  {
   "cell_type": "code",
   "execution_count": 6,
   "metadata": {},
   "outputs": [],
   "source": [
    "merged_pdf.save(\"MLE_Notes_Combined_1_to_10.pdf\")\n",
    "merged_pdf.close()"
   ]
  },
  {
   "cell_type": "code",
   "execution_count": null,
   "metadata": {},
   "outputs": [],
   "source": []
  }
 ],
 "metadata": {
  "kernelspec": {
   "display_name": "env_312_tue_common",
   "language": "python",
   "name": "python3"
  },
  "language_info": {
   "codemirror_mode": {
    "name": "ipython",
    "version": 3
   },
   "file_extension": ".py",
   "mimetype": "text/x-python",
   "name": "python",
   "nbconvert_exporter": "python",
   "pygments_lexer": "ipython3",
   "version": "3.12.8"
  }
 },
 "nbformat": 4,
 "nbformat_minor": 2
}
